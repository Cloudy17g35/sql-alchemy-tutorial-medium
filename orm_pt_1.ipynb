{
 "cells": [
  {
   "cell_type": "markdown",
   "metadata": {},
   "source": [
    "SQLAlchemy is python package which enables working with SQL in Pythonic way. The biggest advantage of SQLAlchemy is that you don't need to deal with different dialects of SQL (Postgres, MySQL, Oracle etc.) but rather with Python objects.\n",
    "\n",
    "**ORM** - Object Relation Mapper is highest level of sql alchemy.\n",
    "In shortcut it's the process of assiociating object oriented classes with database tables."
   ]
  },
  {
   "cell_type": "markdown",
   "metadata": {},
   "source": [
    "### IMPORTS"
   ]
  },
  {
   "cell_type": "code",
   "execution_count": 1,
   "metadata": {},
   "outputs": [],
   "source": [
    "from sqlalchemy import Column, Integer, String, Float\n",
    "from sqlalchemy.ext.declarative import declarative_base\n",
    "from sqlalchemy import create_engine\n",
    "from sqlalchemy.orm import sessionmaker\n",
    "from sqlalchemy import or_\n",
    "import pandas as pd"
   ]
  },
  {
   "cell_type": "markdown",
   "metadata": {},
   "source": [
    "### URL CREATION"
   ]
  },
  {
   "cell_type": "code",
   "execution_count": 2,
   "metadata": {},
   "outputs": [],
   "source": [
    "SQL_DIALECT = 'postgresql'\n",
    "DRIVER = 'psycopg2'\n",
    "USER = 'example'\n",
    "PASSWORD = 'example'\n",
    "SERVER = 'postgres'\n",
    "HOST = 'localhost'\n",
    "DATABASE = 'example'\n",
    "PORT = '5432'\n",
    "CONNECTION_URL = f'{SQL_DIALECT}+{DRIVER}://{USER}:{PASSWORD}@{HOST}:{PORT}/{DATABASE}'"
   ]
  },
  {
   "cell_type": "markdown",
   "metadata": {},
   "source": [
    "Now it's time to create the engine - it's created once per session and it enables to process all transacitons."
   ]
  },
  {
   "cell_type": "code",
   "execution_count": 3,
   "metadata": {},
   "outputs": [],
   "source": [
    "engine = create_engine(\n",
    "    CONNECTION_URL\n",
    ")"
   ]
  },
  {
   "cell_type": "markdown",
   "metadata": {},
   "source": [
    "Let's create our first table: Orders. In order to do that i'm going to use declaritive_base and store it in variable **Base** (table Orders will inherit from it ). We will come back to **Base** a bit later."
   ]
  },
  {
   "cell_type": "code",
   "execution_count": 4,
   "metadata": {},
   "outputs": [],
   "source": [
    "Base = declarative_base()\n",
    "\n",
    "class Order(Base):\n",
    "\n",
    "    __tablename__ = \"orders\"\n",
    "\n",
    "    id = Column(Integer, primary_key=True)\n",
    "    price = Column(Float)\n",
    "    amount = Column(Integer)\n",
    "    product_id = Column(Integer)\n",
    "    \n",
    "    def __repr__(self):\n",
    "        return f\"\"\"<Order(price='{self.price}', amount='{self.amount}', product_id='{self.product_id}')>\"\"\""
   ]
  },
  {
   "cell_type": "markdown",
   "metadata": {},
   "source": [
    "let's create first order and store it in variable, we can do so as follows:"
   ]
  },
  {
   "cell_type": "code",
   "execution_count": 5,
   "metadata": {},
   "outputs": [],
   "source": [
    "order = Order(\n",
    "    price=32,\n",
    "    amount=2,\n",
    "    product_id = 3\n",
    ")"
   ]
  },
  {
   "cell_type": "markdown",
   "metadata": {},
   "source": [
    "At this stage there's nothing in our database if we will look into it:"
   ]
  },
  {
   "cell_type": "markdown",
   "metadata": {},
   "source": [
    "order is just Python object"
   ]
  },
  {
   "cell_type": "code",
   "execution_count": 6,
   "metadata": {},
   "outputs": [
    {
     "name": "stdout",
     "output_type": "stream",
     "text": [
      "<Order(price='32', amount='2', product_id='3')>\n"
     ]
    }
   ],
   "source": [
    "print(order)"
   ]
  },
  {
   "cell_type": "markdown",
   "metadata": {},
   "source": [
    "attributes that weren't set are displayed as None"
   ]
  },
  {
   "cell_type": "code",
   "execution_count": 7,
   "metadata": {},
   "outputs": [
    {
     "name": "stdout",
     "output_type": "stream",
     "text": [
      "None\n"
     ]
    }
   ],
   "source": [
    "print(order.id)"
   ]
  },
  {
   "cell_type": "markdown",
   "metadata": {},
   "source": [
    "So let's create table in database now. If we want to do so we need to use our **Base**."
   ]
  },
  {
   "cell_type": "markdown",
   "metadata": {},
   "source": [
    "Now we can use context manager (there are beyond scope of this article but for sake of simplicity let's think about context managers as about object which cares about opening/closing the connection with database for you) with engine object - we need to use method begin on engine object in order to commit changes in the database:"
   ]
  },
  {
   "cell_type": "code",
   "execution_count": 8,
   "metadata": {},
   "outputs": [],
   "source": [
    "with engine.begin() as conn:\n",
    "    Base.metadata.drop_all(conn)\n",
    "    Base.metadata.create_all(conn)"
   ]
  },
  {
   "cell_type": "markdown",
   "metadata": {},
   "source": [
    "But how add the user to the table? in order to do so we will need **Session object**. This object will use **engine** created before and take handle of connecting, commiting and releasing connections to this engine. "
   ]
  },
  {
   "cell_type": "code",
   "execution_count": 9,
   "metadata": {},
   "outputs": [],
   "source": [
    "Session:sessionmaker = sessionmaker(bind=engine)\n",
    "session:sessionmaker = Session() "
   ]
  },
  {
   "cell_type": "markdown",
   "metadata": {},
   "source": [
    "New objects can be placed into session using .add method. So let's add our order object created before:"
   ]
  },
  {
   "cell_type": "code",
   "execution_count": 10,
   "metadata": {},
   "outputs": [],
   "source": [
    "session.add(order)"
   ]
  },
  {
   "cell_type": "markdown",
   "metadata": {},
   "source": [
    "Note: Nothing happend to the database yet, but we can look into pending objects in our session using .new method"
   ]
  },
  {
   "cell_type": "code",
   "execution_count": 11,
   "metadata": {},
   "outputs": [
    {
     "data": {
      "text/plain": [
       "IdentitySet([<Order(price='32', amount='2', product_id='3')>])"
      ]
     },
     "execution_count": 11,
     "metadata": {},
     "output_type": "execute_result"
    }
   ],
   "source": [
    "session.new"
   ]
  },
  {
   "cell_type": "markdown",
   "metadata": {},
   "source": [
    "In order to commit we simply use commit method on session object."
   ]
  },
  {
   "cell_type": "code",
   "execution_count": 12,
   "metadata": {},
   "outputs": [],
   "source": [
    "session.commit()"
   ]
  },
  {
   "cell_type": "markdown",
   "metadata": {},
   "source": [
    "After commiting our object order also changes, now .id attribute is not None anymore"
   ]
  },
  {
   "cell_type": "code",
   "execution_count": 13,
   "metadata": {},
   "outputs": [
    {
     "name": "stdout",
     "output_type": "stream",
     "text": [
      "1\n"
     ]
    }
   ],
   "source": [
    "print(order.id)"
   ]
  },
  {
   "cell_type": "markdown",
   "metadata": {},
   "source": [
    "It's 1 as excepted."
   ]
  },
  {
   "cell_type": "markdown",
   "metadata": {},
   "source": [
    "Multiple objects can be added to the session - in order to do so we will need use method .add_all() as follows:"
   ]
  },
  {
   "cell_type": "code",
   "execution_count": 14,
   "metadata": {},
   "outputs": [],
   "source": [
    "from typing import List\n",
    "\n",
    "orders_to_add:List[Order] = [\n",
    "    Order(\n",
    "        price = 10,\n",
    "        amount = 10,\n",
    "        product_id = 1\n",
    "    ),\n",
    "\n",
    "    Order(\n",
    "        price=15,\n",
    "        amount=17,\n",
    "        product_id=2\n",
    "    )\n",
    "    ]\n",
    "\n",
    "\n",
    "session.add_all(orders_to_add)"
   ]
  },
  {
   "cell_type": "markdown",
   "metadata": {},
   "source": [
    "Let's check"
   ]
  },
  {
   "cell_type": "code",
   "execution_count": 15,
   "metadata": {},
   "outputs": [
    {
     "data": {
      "text/plain": [
       "IdentitySet([<Order(price='10', amount='10', product_id='1')>, <Order(price='15', amount='17', product_id='2')>])"
      ]
     },
     "execution_count": 15,
     "metadata": {},
     "output_type": "execute_result"
    }
   ],
   "source": [
    "session.new"
   ]
  },
  {
   "cell_type": "markdown",
   "metadata": {},
   "source": [
    "And now commit."
   ]
  },
  {
   "cell_type": "code",
   "execution_count": 16,
   "metadata": {},
   "outputs": [],
   "source": [
    "session.commit()"
   ]
  },
  {
   "cell_type": "markdown",
   "metadata": {},
   "source": [
    "It's also worth to mention that after a commit session invalidates all data, so when we will check session.new it will be empty right now"
   ]
  },
  {
   "cell_type": "code",
   "execution_count": 17,
   "metadata": {},
   "outputs": [
    {
     "data": {
      "text/plain": [
       "IdentitySet([])"
      ]
     },
     "execution_count": 17,
     "metadata": {},
     "output_type": "execute_result"
    }
   ],
   "source": [
    "session.new"
   ]
  },
  {
   "cell_type": "markdown",
   "metadata": {},
   "source": [
    "How to query our data? Again session object will be useful:"
   ]
  },
  {
   "cell_type": "markdown",
   "metadata": {},
   "source": [
    "## Select"
   ]
  },
  {
   "cell_type": "code",
   "execution_count": 18,
   "metadata": {},
   "outputs": [
    {
     "name": "stdout",
     "output_type": "stream",
     "text": [
      "<Order(price='32.0', amount='2', product_id='3')>\n",
      "<Order(price='10.0', amount='10', product_id='1')>\n",
      "<Order(price='15.0', amount='17', product_id='2')>\n"
     ]
    }
   ],
   "source": [
    "res = session.query(Order).all()\n",
    "\n",
    "for r in res:\n",
    "    print(r)"
   ]
  },
  {
   "cell_type": "markdown",
   "metadata": {},
   "source": [
    "## Filter"
   ]
  },
  {
   "cell_type": "markdown",
   "metadata": {},
   "source": [
    "#### simple filter on price"
   ]
  },
  {
   "cell_type": "code",
   "execution_count": 19,
   "metadata": {},
   "outputs": [
    {
     "name": "stdout",
     "output_type": "stream",
     "text": [
      "<Order(price='32.0', amount='2', product_id='3')>\n",
      "<Order(price='10.0', amount='10', product_id='1')>\n",
      "<Order(price='15.0', amount='17', product_id='2')>\n"
     ]
    }
   ],
   "source": [
    "res = (\n",
    "    session.query(Order).filter(\n",
    "    Order.price > 1\n",
    "    ).all()\n",
    ")\n",
    "\n",
    "for r in res:\n",
    "    print(r)"
   ]
  },
  {
   "cell_type": "markdown",
   "metadata": {},
   "source": [
    "#### Filter multiple columns (works like and)"
   ]
  },
  {
   "cell_type": "code",
   "execution_count": 20,
   "metadata": {},
   "outputs": [
    {
     "name": "stdout",
     "output_type": "stream",
     "text": [
      "<Order(price='10.0', amount='10', product_id='1')>\n",
      "<Order(price='15.0', amount='17', product_id='2')>\n"
     ]
    }
   ],
   "source": [
    "res = (\n",
    "    session.query(Order).filter(\n",
    "    Order.price > 3 ,\n",
    "    Order.amount > 2\n",
    "    ).all()\n",
    ")\n",
    "\n",
    "for r in res:\n",
    "    print(r)"
   ]
  },
  {
   "cell_type": "markdown",
   "metadata": {},
   "source": [
    "#### filter multiple columns with or"
   ]
  },
  {
   "cell_type": "code",
   "execution_count": 21,
   "metadata": {},
   "outputs": [
    {
     "name": "stdout",
     "output_type": "stream",
     "text": [
      "<Order(price='32.0', amount='2', product_id='3')>\n",
      "<Order(price='10.0', amount='10', product_id='1')>\n",
      "<Order(price='15.0', amount='17', product_id='2')>\n"
     ]
    }
   ],
   "source": [
    "res = (\n",
    "    session.query(Order).filter(\n",
    "    or_(\n",
    "    Order.price > 3,\n",
    "    Order.amount > 2)\n",
    "    ).all()\n",
    ")\n",
    "\n",
    "for r in res:\n",
    "    print(r)"
   ]
  },
  {
   "cell_type": "markdown",
   "metadata": {},
   "source": [
    "#### In:"
   ]
  },
  {
   "cell_type": "code",
   "execution_count": 22,
   "metadata": {},
   "outputs": [
    {
     "name": "stdout",
     "output_type": "stream",
     "text": [
      "<Order(price='10.0', amount='10', product_id='1')>\n",
      "<Order(price='15.0', amount='17', product_id='2')>\n"
     ]
    }
   ],
   "source": [
    "res = (\n",
    "    session.query(Order).filter(\n",
    "    Order.product_id.in_((1, 2)\n",
    "    )\n",
    "    ).all()\n",
    ")\n",
    "\n",
    "\n",
    "for r in res:\n",
    "    print(r)"
   ]
  },
  {
   "cell_type": "markdown",
   "metadata": {},
   "source": [
    "### Order by"
   ]
  },
  {
   "cell_type": "code",
   "execution_count": 23,
   "metadata": {},
   "outputs": [
    {
     "name": "stdout",
     "output_type": "stream",
     "text": [
      "<Order(price='10.0', amount='10', product_id='1')>\n",
      "<Order(price='15.0', amount='17', product_id='2')>\n",
      "<Order(price='32.0', amount='2', product_id='3')>\n"
     ]
    }
   ],
   "source": [
    "res = (\n",
    "    session.query(Order).order_by(Order.product_id)\n",
    "    ).all()\n",
    "\n",
    "\n",
    "for r in res:\n",
    "    print(r)"
   ]
  },
  {
   "cell_type": "markdown",
   "metadata": {},
   "source": [
    "### To pandas dataframe"
   ]
  },
  {
   "cell_type": "code",
   "execution_count": 24,
   "metadata": {},
   "outputs": [],
   "source": [
    "df:pd.DataFrame = pd.read_sql(\n",
    "    sql=session.query(Order).statement,\n",
    "    con=session.bind\n",
    ")"
   ]
  },
  {
   "cell_type": "code",
   "execution_count": 25,
   "metadata": {},
   "outputs": [
    {
     "data": {
      "text/html": [
       "<div>\n",
       "<style scoped>\n",
       "    .dataframe tbody tr th:only-of-type {\n",
       "        vertical-align: middle;\n",
       "    }\n",
       "\n",
       "    .dataframe tbody tr th {\n",
       "        vertical-align: top;\n",
       "    }\n",
       "\n",
       "    .dataframe thead th {\n",
       "        text-align: right;\n",
       "    }\n",
       "</style>\n",
       "<table border=\"1\" class=\"dataframe\">\n",
       "  <thead>\n",
       "    <tr style=\"text-align: right;\">\n",
       "      <th></th>\n",
       "      <th>id</th>\n",
       "      <th>price</th>\n",
       "      <th>amount</th>\n",
       "      <th>product_id</th>\n",
       "    </tr>\n",
       "  </thead>\n",
       "  <tbody>\n",
       "    <tr>\n",
       "      <th>0</th>\n",
       "      <td>1</td>\n",
       "      <td>32.0</td>\n",
       "      <td>2</td>\n",
       "      <td>3</td>\n",
       "    </tr>\n",
       "    <tr>\n",
       "      <th>1</th>\n",
       "      <td>2</td>\n",
       "      <td>10.0</td>\n",
       "      <td>10</td>\n",
       "      <td>1</td>\n",
       "    </tr>\n",
       "    <tr>\n",
       "      <th>2</th>\n",
       "      <td>3</td>\n",
       "      <td>15.0</td>\n",
       "      <td>17</td>\n",
       "      <td>2</td>\n",
       "    </tr>\n",
       "  </tbody>\n",
       "</table>\n",
       "</div>"
      ],
      "text/plain": [
       "   id  price  amount  product_id\n",
       "0   1   32.0       2           3\n",
       "1   2   10.0      10           1\n",
       "2   3   15.0      17           2"
      ]
     },
     "execution_count": 25,
     "metadata": {},
     "output_type": "execute_result"
    }
   ],
   "source": [
    "df"
   ]
  }
 ],
 "metadata": {
  "kernelspec": {
   "display_name": "Python 3.7.13 64-bit ('venv')",
   "language": "python",
   "name": "python3"
  },
  "language_info": {
   "codemirror_mode": {
    "name": "ipython",
    "version": 3
   },
   "file_extension": ".py",
   "mimetype": "text/x-python",
   "name": "python",
   "nbconvert_exporter": "python",
   "pygments_lexer": "ipython3",
   "version": "3.7.13"
  },
  "orig_nbformat": 4,
  "vscode": {
   "interpreter": {
    "hash": "e849d7583155caee868f00d2881d201e44ea3bb03a32064bd368368d31d60603"
   }
  }
 },
 "nbformat": 4,
 "nbformat_minor": 2
}
